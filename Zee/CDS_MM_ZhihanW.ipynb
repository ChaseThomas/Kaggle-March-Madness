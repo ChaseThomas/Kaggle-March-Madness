{
 "cells": [
  {
   "cell_type": "code",
   "execution_count": 1,
   "metadata": {
    "collapsed": true
   },
   "outputs": [],
   "source": [
    "#Load all packages and models we will be using\n",
    "from pandas import DataFrame\n",
    "import pandas as pd\n",
    "import numpy as np\n",
    "import random\n",
    "from sklearn import linear_model, datasets\n",
    "logreg = linear_model.LogisticRegression()\n",
    "from sklearn import tree\n",
    "clf = tree.DecisionTreeClassifier()"
   ]
  },
  {
   "cell_type": "code",
   "execution_count": 2,
   "metadata": {
    "collapsed": false
   },
   "outputs": [],
   "source": [
    "#Load data\n",
    "seasonal = DataFrame.from_csv(\"RegularSeasonDetailedResults.csv\", sep=\",\",index_col=None)\n",
    "seeds = DataFrame.from_csv(\"TourneySeeds.csv\", sep=\",\",index_col=None)\n",
    "\n",
    "#Build raw data frame for feature engineering\n",
    "seasonalCols = ['Season','Wteam','Wscore','Wfgm3','Wfgm','Wfga','Lteam','Lscore','Lfgm3','Lfgm','Lfga']\n",
    "seasonalDf = DataFrame(seasonal[seasonal['Season']>2011], columns=seasonalCols)\n",
    "seedsDf = DataFrame(seeds[seeds['Season']>2011])\n",
    "\n",
    "#Filling in empty seeds score\n",
    "\n",
    "#Fill in NAs in case\n",
    "seasonalDf = seasonalDf.fillna(0)\n",
    "\n",
    "#Feature engineering\n",
    "#1.) Score difference rate for win/loss team\n",
    "WscoreDiff = 1+(seasonalDf['Wscore']-seasonalDf['Lscore'])/(seasonalDf['Wscore']+seasonalDf['Lscore'])\n",
    "LscoreDiff = 1-(seasonalDf['Wscore']-seasonalDf['Lscore'])/(seasonalDf['Wscore']+seasonalDf['Lscore'])\n",
    "seasonalDf['WScoreDiff']=WscoreDiff\n",
    "seasonalDf['LScoreDiff']=LscoreDiff\n",
    "\n",
    "#2.) Field goal made rate\n",
    "WfgRate = seasonalDf['Wfgm']/seasonalDf['Wfga']\n",
    "LfgRate = seasonalDf['Lfgm']/seasonalDf['Lfga']\n",
    "seasonalDf['WfgRate']=WfgRate\n",
    "seasonalDf['LfgRate']=LfgRate\n",
    "\n",
    "seedsDf=DataFrame(seedsDf, columns=['Team','Seed'])\n",
    "\n",
    "seasonalColsUse = ['Wteam','WfgRate','Wfgm3','WScoreDiff','Lteam','LfgRate','Lfgm3','LScoreDiff']\n",
    "seasonalColsGen = ['team1','fgRate1','fgm31','ScoreDiff1','team2','fgRate2','fgm32','ScoreDiff2']\n",
    "seasonalDf = DataFrame(seasonalDf, columns=seasonalColsUse)\n",
    "seasonalDf.columns=seasonalColsGen"
   ]
  },
  {
   "cell_type": "code",
   "execution_count": 3,
   "metadata": {
    "collapsed": false
   },
   "outputs": [],
   "source": [
    "# Shuffle orders to have half positive and half negative examples\n",
    "revCols = ['team2','fgRate2','fgm32','ScoreDiff2','team1','fgRate1','fgm31','ScoreDiff1']\n",
    "seasonalColsGenLabel = ['team1','fgRate1','fgm31','ScoreDiff1','team2','fgRate2','fgm32','ScoreDiff2','Label']\n",
    "\n",
    "seasonalDfNeg = seasonalDf.sample(frac=0.5)\n",
    "seasonalDf = seasonalDf[~seasonalDf.index.isin(seasonalDfNeg.index)]\n",
    "seasonalDfNeg = DataFrame(seasonalDfNeg, columns=revCols)\n",
    "\n",
    "# Put in label\n",
    "seasonalDfNeg['Label'] = -1\n",
    "seasonalDf['Label'] = 1\n",
    "seasonalDfNeg.columns=seasonalColsGenLabel\n",
    "\n",
    "seasonalDf=seasonalDf.append(seasonalDfNeg,ignore_index=True)\n",
    "\n",
    "# Shuffle the samples\n",
    "seasonalDf = seasonalDf.sample(frac=1).reset_index(drop=True)\n",
    "\n",
    "rawSeeds = np.zeros(shape=len(seasonalDf))\n",
    "seasonalDf['seedsScore1'] = rawSeeds\n",
    "seasonalDf['seedsScore2'] = rawSeeds\n",
    "\n",
    "# Put engineered features into new data frame to use\n",
    "seasonalColsGenSeed = ['team1','fgRate1','fgm31','ScoreDiff1','seedsScore1','team2','fgRate2','fgm32','ScoreDiff2','seedsScore2','Label']\n",
    "seasonalDf = DataFrame(seasonalDf, columns=seasonalColsGenSeed)"
   ]
  },
  {
   "cell_type": "code",
   "execution_count": 4,
   "metadata": {
    "collapsed": false
   },
   "outputs": [
    {
     "name": "stderr",
     "output_type": "stream",
     "text": [
      "/anaconda/envs/python2/lib/python2.7/site-packages/ipykernel/__main__.py:4: FutureWarning: currently extract(expand=None) means expand=False (return Index/Series/DataFrame) but in a future version of pandas this will be changed to expand=True (return DataFrame)\n"
     ]
    }
   ],
   "source": [
    "# Calculating seeding score for each team\n",
    "\n",
    "# Getting the number value of the seeds\n",
    "seedsNum = seedsDf['Seed'].str.extract('(\\d+)').astype(int)\n",
    "seedsDf['seedsNum'] = seedsNum\n",
    "\n",
    "# Getting the counts of each team that were selected as seeds\n",
    "seedsCount=seedsDf.groupby(['Team']).agg(['count']).reset_index()\n",
    "\n",
    "# Seed score = (1/(mean of seeding value))*seeding count\n",
    "seedsDf = seedsDf.sort_values(by=['Team'])\n",
    "seedsMean = 1/(seedsDf.groupby(['Team'],as_index=False).mean())\n",
    "seedsScore = np.multiply(seedsMean['seedsNum'],seedsCount['seedsNum']['count'])\n",
    "seedsCount['seedsScore'] = seedsScore\n",
    "\n",
    "# Build new table for seeding score values\n",
    "seedsData = pd.DataFrame(\n",
    "    {'Team': seedsCount['Team'],\n",
    "     'seedsScore': seedsCount['seedsScore']})"
   ]
  },
  {
   "cell_type": "code",
   "execution_count": 5,
   "metadata": {
    "collapsed": false
   },
   "outputs": [],
   "source": [
    "# This function will get all the seeds score for each team\n",
    "def getSeedsScore(inputSeasonal):\n",
    "    seedsScore1x = np.zeros(shape=len(inputSeasonal)+1)\n",
    "    seedsScore2x = np.zeros(shape=len(inputSeasonal)+1)\n",
    "    for i in range(len(inputSeasonal)):\n",
    "        seedsLoc1 = seedsData['Team']==seasonalDf.iloc[i]['team1']\n",
    "        seedsLoc2 = seedsData['Team']==seasonalDf.iloc[i]['team2']\n",
    "        if sum(seedsLoc1)>0:\n",
    "            a = seedsData[seedsLoc1]['seedsScore']\n",
    "            seedsScore1x[i] = a\n",
    "        if sum(seedsLoc2)>0:\n",
    "            b = seedsData[seedsLoc2]['seedsScore']\n",
    "            seedsScore2x[i] = b\n",
    "    d1 = {'seedsScore1x':seedsScore1x}\n",
    "    d2 = {'seedsScore2x':seedsScore2x}\n",
    "    d1 = DataFrame(d1,columns=['seedsScore1x'])\n",
    "    d2 = DataFrame(d2,columns=['seedsScore2x'])\n",
    "    inputSeasonal['seedsScore1']=d1['seedsScore1x']\n",
    "    inputSeasonal['seedsScore2']=d2['seedsScore2x']\n",
    "    return inputSeasonal"
   ]
  },
  {
   "cell_type": "code",
   "execution_count": 6,
   "metadata": {
    "collapsed": false
   },
   "outputs": [],
   "source": [
    "#Filling in seeds scores for all the data\n",
    "seasonalDf = getSeedsScore(seasonalDf)"
   ]
  },
  {
   "cell_type": "code",
   "execution_count": 7,
   "metadata": {
    "collapsed": false
   },
   "outputs": [],
   "source": [
    "# Randomly sample 80% of training data and 20% of test data\n",
    "teData = seasonalDf.sample(frac=0.2)\n",
    "trData = seasonalDf[~seasonalDf.index.isin(teData.index)]\n",
    "\n",
    "# Set X and Y \n",
    "seasonalColsGenSeedTr = ['team1','fgRate1','fgm31','ScoreDiff1','seedsScore1','team2','fgRate2','fgm32','ScoreDiff2','seedsScore2']\n",
    "trX = DataFrame(trData, columns = seasonalColsGenSeedTr)\n",
    "teX = DataFrame(teData, columns = seasonalColsGenSeedTr)\n",
    "\n",
    "trY = trData['Label']\n",
    "teY = teData['Label']"
   ]
  },
  {
   "cell_type": "code",
   "execution_count": 8,
   "metadata": {
    "collapsed": true
   },
   "outputs": [],
   "source": [
    "# Define a dataset for all teams for finding means in the future\n",
    "allTeams = DataFrame(seasonalDf, columns = ['team1','fgRate1','fgm31','ScoreDiff1','seedsScore1'])\n",
    "allTeams2 = DataFrame(seasonalDf, columns = ['team2','fgRate2','fgm32','ScoreDiff2','seedsScore2'])\n",
    "allTeamsCols = ['team','fgRate','fgm3','ScoreDiff','seedsScore']\n",
    "\n",
    "allTeams.columns = allTeamsCols\n",
    "allTeams2.columns = allTeamsCols\n",
    "allTeams = allTeams.append(allTeams2,ignore_index=True)\n",
    "\n",
    "# Sort by team id and get the mean value of features of each team\n",
    "allTeams = allTeams.sort_values(by=['team'])\n",
    "allTeams = allTeams.groupby(['team'],as_index=False).mean()# Define a function to get the average feature values of the test set teams\n",
    "\n",
    "def getTeFeatures(teTeams):\n",
    "    meanFGR1 = np.zeros(shape=len(teTeams))\n",
    "    meanFGM31 = np.zeros(shape=len(teTeams))\n",
    "    meanSD1 = np.zeros(shape=len(teTeams))\n",
    "    meanSS1 = np.zeros(shape=len(teTeams))\n",
    "    meanFGR2 = np.zeros(shape=len(teTeams))\n",
    "    meanFGM32 = np.zeros(shape=len(teTeams))\n",
    "    meanSD2 = np.zeros(shape=len(teTeams))\n",
    "    meanSS2 = np.zeros(shape=len(teTeams))\n",
    "    for i in range(len(teTeams)):\n",
    "        meanFGR1[i] = allTeams[allTeams['team']==teTeams.iloc[i]['team1']]['fgRate']\n",
    "        meanFGM31[i] = allTeams[allTeams['team']==teTeams.iloc[i]['team1']]['fgm3']\n",
    "        meanSD1[i] = allTeams[allTeams['team']==teTeams.iloc[i]['team1']]['ScoreDiff']\n",
    "        meanSS1[i] = allTeams[allTeams['team']==teTeams.iloc[i]['team1']]['seedsScore']\n",
    "        meanFGR2[i] = allTeams[allTeams['team']==teTeams.iloc[i]['team2']]['fgRate']\n",
    "        meanFGM32[i] = allTeams[allTeams['team']==teTeams.iloc[i]['team2']]['fgm3']\n",
    "        meanSD2[i] = allTeams[allTeams['team']==teTeams.iloc[i]['team2']]['ScoreDiff']\n",
    "        meanSS2[i] = allTeams[allTeams['team']==teTeams.iloc[i]['team2']]['seedsScore']\n",
    "    d = {'seedsScore2':meanSS2,'ScoreDiff2':meanSD2,'fgm32':meanFGM32,'fgRate2':meanFGR2,'team2':teTeams['team2'],\n",
    "                       'seedsScore1':meanSS1,'ScoreDiff1':meanSD1,'fgm31':meanFGM31,'fgRate1':meanFGR1,'team1':teTeams['team1']}\n",
    "    result = DataFrame(d,columns=['team1','fgRate1','fgm31','ScoreDiff1','seedsScore1',\n",
    "                                  'team2','fgRate2','fgm32','ScoreDiff2','seedsScore2'],\n",
    "                     index=teTeams.index)\n",
    "    return result"
   ]
  },
  {
   "cell_type": "code",
   "execution_count": 9,
   "metadata": {
    "collapsed": true
   },
   "outputs": [],
   "source": [
    "# Instead of putting real seaonal data, we are going to put in the average for each team from seasonal data for testing\n",
    "teXTeams = DataFrame(teX, columns = ['team1','team2'])\n",
    "meanSD2 = np.zeros(shape=len(teXTeams))\n",
    "teXX = getTeFeatures(teXTeams)"
   ]
  },
  {
   "cell_type": "code",
   "execution_count": 10,
   "metadata": {
    "collapsed": false
   },
   "outputs": [
    {
     "data": {
      "text/plain": [
       "0.61421605401350332"
      ]
     },
     "execution_count": 10,
     "metadata": {},
     "output_type": "execute_result"
    }
   ],
   "source": [
    "# Decision tree model, usually score around 0.61\n",
    "clf = clf.fit(trX, trY)\n",
    "clf\n",
    "with open(\"test\", 'w') as f:\n",
    "     f = tree.export_graphviz(clf, out_file=f)\n",
    "clf.predict(teXX)\n",
    "clf.score(teXX, teY)"
   ]
  },
  {
   "cell_type": "code",
   "execution_count": 29,
   "metadata": {
    "collapsed": false
   },
   "outputs": [
    {
     "data": {
      "text/plain": [
       "array([[  5.70975742e-05,   4.32687441e+00,   1.36131227e-02,\n",
       "          3.08160084e+01,   3.94562363e-01,  -1.94688738e-04,\n",
       "         -4.21503362e+00,  -1.32161528e-02,  -3.07294594e+01,\n",
       "         -4.36366329e-01]])"
      ]
     },
     "execution_count": 29,
     "metadata": {},
     "output_type": "execute_result"
    }
   ],
   "source": [
    "# Logistic regression model usually score around 0.69\n",
    "logreg.fit(trX,trY)\n",
    "logreg.predict(teXX)\n",
    "logreg.score(teXX, teY)\n",
    "\n",
    "logreg.coef_"
   ]
  },
  {
   "cell_type": "code",
   "execution_count": null,
   "metadata": {
    "collapsed": true
   },
   "outputs": [],
   "source": []
  }
 ],
 "metadata": {
  "anaconda-cloud": {},
  "kernelspec": {
   "display_name": "Python [python2]",
   "language": "python",
   "name": "Python [python2]"
  },
  "language_info": {
   "codemirror_mode": {
    "name": "ipython",
    "version": 2
   },
   "file_extension": ".py",
   "mimetype": "text/x-python",
   "name": "python",
   "nbconvert_exporter": "python",
   "pygments_lexer": "ipython2",
   "version": "2.7.13"
  }
 },
 "nbformat": 4,
 "nbformat_minor": 0
}
