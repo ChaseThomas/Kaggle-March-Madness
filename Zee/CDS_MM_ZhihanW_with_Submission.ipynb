{
 "cells": [
  {
   "cell_type": "code",
   "execution_count": 441,
   "metadata": {
    "collapsed": true
   },
   "outputs": [],
   "source": [
    "#Load all packages and models we will be using\n",
    "from pandas import DataFrame\n",
    "import pandas as pd\n",
    "import numpy as np\n",
    "import math\n",
    "import random\n",
    "from sklearn import linear_model, datasets\n",
    "logreg = linear_model.LogisticRegression()\n",
    "from sklearn import tree\n",
    "clf = tree.DecisionTreeClassifier()"
   ]
  },
  {
   "cell_type": "code",
   "execution_count": 442,
   "metadata": {
    "collapsed": false
   },
   "outputs": [
    {
     "data": {
      "text/html": [
       "<div>\n",
       "<table border=\"1\" class=\"dataframe\">\n",
       "  <thead>\n",
       "    <tr style=\"text-align: right;\">\n",
       "      <th></th>\n",
       "      <th>Season</th>\n",
       "      <th>Team</th>\n",
       "      <th>Seed</th>\n",
       "    </tr>\n",
       "  </thead>\n",
       "  <tbody>\n",
       "    <tr>\n",
       "      <th>1675</th>\n",
       "      <td>2011</td>\n",
       "      <td>1314</td>\n",
       "      <td>W02</td>\n",
       "    </tr>\n",
       "    <tr>\n",
       "      <th>1676</th>\n",
       "      <td>2011</td>\n",
       "      <td>1393</td>\n",
       "      <td>W03</td>\n",
       "    </tr>\n",
       "    <tr>\n",
       "      <th>1677</th>\n",
       "      <td>2011</td>\n",
       "      <td>1246</td>\n",
       "      <td>W04</td>\n",
       "    </tr>\n",
       "    <tr>\n",
       "      <th>1678</th>\n",
       "      <td>2011</td>\n",
       "      <td>1452</td>\n",
       "      <td>W05</td>\n",
       "    </tr>\n",
       "  </tbody>\n",
       "</table>\n",
       "</div>"
      ],
      "text/plain": [
       "      Season  Team Seed\n",
       "1675    2011  1314  W02\n",
       "1676    2011  1393  W03\n",
       "1677    2011  1246  W04\n",
       "1678    2011  1452  W05"
      ]
     },
     "execution_count": 442,
     "metadata": {},
     "output_type": "execute_result"
    }
   ],
   "source": [
    "#Load data\n",
    "seasonal = DataFrame.from_csv(\"RegularSeasonDetailedResults.csv\", sep=\",\",index_col=None)\n",
    "seeds = DataFrame.from_csv(\"TourneySeeds.csv\", sep=\",\",index_col=None)\n",
    "\n",
    "#Build raw data frame for feature engineering\n",
    "seasonalCols = ['Season','Wteam','Wscore','Wfgm3','Wfgm','Wfga','Lteam','Lscore','Lfgm3','Lfgm','Lfga']\n",
    "seasonalDf = DataFrame(seasonal[seasonal['Season']>2010], columns=seasonalCols)\n",
    "seedsDf = DataFrame(seeds[seeds['Season']>2010])\n",
    "\n",
    "#Filling in empty seeds score\n",
    "\n",
    "#Fill in NAs in case\n",
    "seasonalDf = seasonalDf.fillna(0)\n",
    "\n",
    "#Feature engineering\n",
    "#1.) Score difference rate for win/loss team\n",
    "WscoreDiff = 1+(seasonalDf['Wscore']-seasonalDf['Lscore'])/(seasonalDf['Wscore']+seasonalDf['Lscore'])\n",
    "LscoreDiff = 1-(seasonalDf['Wscore']-seasonalDf['Lscore'])/(seasonalDf['Wscore']+seasonalDf['Lscore'])\n",
    "seasonalDf['WScoreDiff']=WscoreDiff\n",
    "seasonalDf['LScoreDiff']=LscoreDiff\n",
    "\n",
    "#2.) Field goal made rate\n",
    "WfgRate = seasonalDf['Wfgm']/seasonalDf['Wfga']\n",
    "LfgRate = seasonalDf['Lfgm']/seasonalDf['Lfga']\n",
    "seasonalDf['WfgRate']=WfgRate\n",
    "seasonalDf['LfgRate']=LfgRate\n",
    "\n",
    "seedsDf=DataFrame(seedsDf, columns=['Season','Team','Seed'])\n",
    "\n",
    "seasonalColsUse = ['Season','Wteam','WfgRate','Wfgm3','WScoreDiff','Lteam','LfgRate','Lfgm3','LScoreDiff']\n",
    "seasonalColsGen = ['Season','team1','fgRate1','fgm31','ScoreDiff1','team2','fgRate2','fgm32','ScoreDiff2']\n",
    "seasonalDf = DataFrame(seasonalDf, columns=seasonalColsUse)\n",
    "seasonalDf.columns=seasonalColsGen\n",
    "seedsDf[1:5]"
   ]
  },
  {
   "cell_type": "code",
   "execution_count": 443,
   "metadata": {
    "collapsed": false
   },
   "outputs": [
    {
     "data": {
      "text/html": [
       "<div>\n",
       "<table border=\"1\" class=\"dataframe\">\n",
       "  <thead>\n",
       "    <tr style=\"text-align: right;\">\n",
       "      <th></th>\n",
       "      <th>Season</th>\n",
       "      <th>team1</th>\n",
       "      <th>fgRate1</th>\n",
       "      <th>fgm31</th>\n",
       "      <th>ScoreDiff1</th>\n",
       "      <th>seedsScore1</th>\n",
       "      <th>team2</th>\n",
       "      <th>fgRate2</th>\n",
       "      <th>fgm32</th>\n",
       "      <th>ScoreDiff2</th>\n",
       "      <th>seedsScore2</th>\n",
       "      <th>Label</th>\n",
       "    </tr>\n",
       "  </thead>\n",
       "  <tbody>\n",
       "    <tr>\n",
       "      <th>1</th>\n",
       "      <td>2013</td>\n",
       "      <td>1417</td>\n",
       "      <td>0.465517</td>\n",
       "      <td>3</td>\n",
       "      <td>0.937063</td>\n",
       "      <td>0.0</td>\n",
       "      <td>1332</td>\n",
       "      <td>0.450000</td>\n",
       "      <td>6</td>\n",
       "      <td>1.062937</td>\n",
       "      <td>0.0</td>\n",
       "      <td>-1</td>\n",
       "    </tr>\n",
       "    <tr>\n",
       "      <th>2</th>\n",
       "      <td>2011</td>\n",
       "      <td>1374</td>\n",
       "      <td>0.613636</td>\n",
       "      <td>10</td>\n",
       "      <td>1.163934</td>\n",
       "      <td>0.0</td>\n",
       "      <td>1212</td>\n",
       "      <td>0.387755</td>\n",
       "      <td>5</td>\n",
       "      <td>0.836066</td>\n",
       "      <td>0.0</td>\n",
       "      <td>1</td>\n",
       "    </tr>\n",
       "    <tr>\n",
       "      <th>3</th>\n",
       "      <td>2012</td>\n",
       "      <td>1306</td>\n",
       "      <td>0.392857</td>\n",
       "      <td>10</td>\n",
       "      <td>1.107692</td>\n",
       "      <td>0.0</td>\n",
       "      <td>1406</td>\n",
       "      <td>0.333333</td>\n",
       "      <td>2</td>\n",
       "      <td>0.892308</td>\n",
       "      <td>0.0</td>\n",
       "      <td>1</td>\n",
       "    </tr>\n",
       "    <tr>\n",
       "      <th>4</th>\n",
       "      <td>2015</td>\n",
       "      <td>1124</td>\n",
       "      <td>0.446809</td>\n",
       "      <td>6</td>\n",
       "      <td>1.029851</td>\n",
       "      <td>0.0</td>\n",
       "      <td>1376</td>\n",
       "      <td>0.407407</td>\n",
       "      <td>5</td>\n",
       "      <td>0.970149</td>\n",
       "      <td>0.0</td>\n",
       "      <td>1</td>\n",
       "    </tr>\n",
       "  </tbody>\n",
       "</table>\n",
       "</div>"
      ],
      "text/plain": [
       "   Season  team1   fgRate1  fgm31  ScoreDiff1  seedsScore1  team2   fgRate2  \\\n",
       "1    2013   1417  0.465517      3    0.937063          0.0   1332  0.450000   \n",
       "2    2011   1374  0.613636     10    1.163934          0.0   1212  0.387755   \n",
       "3    2012   1306  0.392857     10    1.107692          0.0   1406  0.333333   \n",
       "4    2015   1124  0.446809      6    1.029851          0.0   1376  0.407407   \n",
       "\n",
       "   fgm32  ScoreDiff2  seedsScore2  Label  \n",
       "1      6    1.062937          0.0     -1  \n",
       "2      5    0.836066          0.0      1  \n",
       "3      2    0.892308          0.0      1  \n",
       "4      5    0.970149          0.0      1  "
      ]
     },
     "execution_count": 443,
     "metadata": {},
     "output_type": "execute_result"
    }
   ],
   "source": [
    "# Shuffle orders to have half positive and half negative examples\n",
    "revCols = ['Season','team2','fgRate2','fgm32','ScoreDiff2','team1','fgRate1','fgm31','ScoreDiff1']\n",
    "seasonalColsGenLabel = ['Season','team1','fgRate1','fgm31','ScoreDiff1','team2','fgRate2','fgm32','ScoreDiff2','Label']\n",
    "\n",
    "seasonalDfNeg = seasonalDf.sample(frac=0.5)\n",
    "seasonalDf = seasonalDf[~seasonalDf.index.isin(seasonalDfNeg.index)]\n",
    "seasonalDfNeg = DataFrame(seasonalDfNeg, columns=revCols)\n",
    "\n",
    "# Put in label\n",
    "seasonalDfNeg['Label'] = -1\n",
    "seasonalDf['Label'] = 1\n",
    "seasonalDfNeg.columns=seasonalColsGenLabel\n",
    "\n",
    "seasonalDf=seasonalDf.append(seasonalDfNeg,ignore_index=True)\n",
    "\n",
    "# Shuffle the samples\n",
    "seasonalDf = seasonalDf.sample(frac=1).reset_index(drop=True)\n",
    "\n",
    "rawSeeds = np.zeros(shape=len(seasonalDf))\n",
    "seasonalDf['seedsScore1'] = rawSeeds\n",
    "seasonalDf['seedsScore2'] = rawSeeds\n",
    "\n",
    "# Put engineered features into new data frame to use\n",
    "seasonalColsGenSeed = ['Season','team1','fgRate1','fgm31','ScoreDiff1','seedsScore1','team2','fgRate2','fgm32','ScoreDiff2','seedsScore2','Label']\n",
    "seasonalDf = DataFrame(seasonalDf, columns=seasonalColsGenSeed)\n",
    "seasonalDf[1:5]"
   ]
  },
  {
   "cell_type": "code",
   "execution_count": 444,
   "metadata": {
    "collapsed": false
   },
   "outputs": [
    {
     "name": "stderr",
     "output_type": "stream",
     "text": [
      "/anaconda/envs/python2/lib/python2.7/site-packages/ipykernel/__main__.py:4: FutureWarning: currently extract(expand=None) means expand=False (return Index/Series/DataFrame) but in a future version of pandas this will be changed to expand=True (return DataFrame)\n"
     ]
    }
   ],
   "source": [
    "# Calculating seeding score for each team\n",
    "\n",
    "# Getting the number value of the seeds\n",
    "seedsNum = seedsDf['Seed'].str.extract('(\\d+)').astype(int)\n",
    "seedsDf['seedsNum'] = seedsNum\n",
    "\n",
    "# Getting the counts of each team that were selected as seeds\n",
    "seedsCount=seedsDf.groupby(['Team']).agg(['count']).reset_index()\n",
    "\n",
    "# Seed score = (1/(mean of seeding value))*seeding count\n",
    "seedsDf = seedsDf.sort_values(by=['Team'])\n",
    "seedsMean = 1/(seedsDf.groupby(['Team'],as_index=False).mean())\n",
    "seedsScore = np.multiply(seedsMean['seedsNum'],seedsCount['seedsNum']['count'])\n",
    "seedsCount['seedsScore'] = seedsScore\n",
    "\n",
    "# Build new table for seeding score values\n",
    "seedsData = pd.DataFrame(\n",
    "    {'Team': seedsCount['Team'],\n",
    "     'seedsScore': seedsCount['seedsScore']})\n",
    "#t = seedsDf[seedsDf.groupby(['Team'],as_index=False)['Season']]\n",
    "#t\n",
    "#seedsData"
   ]
  },
  {
   "cell_type": "code",
   "execution_count": 445,
   "metadata": {
    "collapsed": false
   },
   "outputs": [],
   "source": [
    "# This function will get all the seeds score for each team\n",
    "def getSeedsScore(inputSeasonal):\n",
    "    seedsScore1x = np.zeros(shape=len(inputSeasonal)+1)\n",
    "    seedsScore2x = np.zeros(shape=len(inputSeasonal)+1)\n",
    "    for i in range(len(inputSeasonal)):\n",
    "        seedsLoc1 = seedsData['Team']==seasonalDf.iloc[i]['team1']\n",
    "        seedsLoc2 = seedsData['Team']==seasonalDf.iloc[i]['team2']\n",
    "        if sum(seedsLoc1)>0:\n",
    "            a = seedsData[seedsLoc1]['seedsScore']\n",
    "            seedsScore1x[i] = a\n",
    "        if sum(seedsLoc2)>0:\n",
    "            b = seedsData[seedsLoc2]['seedsScore']\n",
    "            seedsScore2x[i] = b\n",
    "    d1 = {'seedsScore1x':seedsScore1x}\n",
    "    d2 = {'seedsScore2x':seedsScore2x}\n",
    "    d1 = DataFrame(d1,columns=['seedsScore1x'])\n",
    "    d2 = DataFrame(d2,columns=['seedsScore2x'])\n",
    "    inputSeasonal['seedsScore1']=d1['seedsScore1x']\n",
    "    inputSeasonal['seedsScore2']=d2['seedsScore2x']\n",
    "    return inputSeasonal"
   ]
  },
  {
   "cell_type": "code",
   "execution_count": 446,
   "metadata": {
    "collapsed": false
   },
   "outputs": [
    {
     "data": {
      "text/html": [
       "<div>\n",
       "<table border=\"1\" class=\"dataframe\">\n",
       "  <thead>\n",
       "    <tr style=\"text-align: right;\">\n",
       "      <th></th>\n",
       "      <th>Season</th>\n",
       "      <th>team1</th>\n",
       "      <th>fgRate1</th>\n",
       "      <th>fgm31</th>\n",
       "      <th>ScoreDiff1</th>\n",
       "      <th>seedsScore1</th>\n",
       "      <th>team2</th>\n",
       "      <th>fgRate2</th>\n",
       "      <th>fgm32</th>\n",
       "      <th>ScoreDiff2</th>\n",
       "      <th>seedsScore2</th>\n",
       "      <th>Label</th>\n",
       "    </tr>\n",
       "  </thead>\n",
       "  <tbody>\n",
       "    <tr>\n",
       "      <th>1</th>\n",
       "      <td>2013</td>\n",
       "      <td>1417</td>\n",
       "      <td>0.465517</td>\n",
       "      <td>3</td>\n",
       "      <td>0.937063</td>\n",
       "      <td>0.571429</td>\n",
       "      <td>1332</td>\n",
       "      <td>0.450000</td>\n",
       "      <td>6</td>\n",
       "      <td>1.062937</td>\n",
       "      <td>0.571429</td>\n",
       "      <td>-1</td>\n",
       "    </tr>\n",
       "    <tr>\n",
       "      <th>2</th>\n",
       "      <td>2011</td>\n",
       "      <td>1374</td>\n",
       "      <td>0.613636</td>\n",
       "      <td>10</td>\n",
       "      <td>1.163934</td>\n",
       "      <td>0.166667</td>\n",
       "      <td>1212</td>\n",
       "      <td>0.387755</td>\n",
       "      <td>5</td>\n",
       "      <td>0.836066</td>\n",
       "      <td>0.000000</td>\n",
       "      <td>1</td>\n",
       "    </tr>\n",
       "    <tr>\n",
       "      <th>3</th>\n",
       "      <td>2012</td>\n",
       "      <td>1306</td>\n",
       "      <td>0.392857</td>\n",
       "      <td>10</td>\n",
       "      <td>1.107692</td>\n",
       "      <td>0.000000</td>\n",
       "      <td>1406</td>\n",
       "      <td>0.333333</td>\n",
       "      <td>2</td>\n",
       "      <td>0.892308</td>\n",
       "      <td>0.000000</td>\n",
       "      <td>1</td>\n",
       "    </tr>\n",
       "    <tr>\n",
       "      <th>4</th>\n",
       "      <td>2015</td>\n",
       "      <td>1124</td>\n",
       "      <td>0.446809</td>\n",
       "      <td>6</td>\n",
       "      <td>1.029851</td>\n",
       "      <td>0.941176</td>\n",
       "      <td>1376</td>\n",
       "      <td>0.407407</td>\n",
       "      <td>5</td>\n",
       "      <td>0.970149</td>\n",
       "      <td>0.000000</td>\n",
       "      <td>1</td>\n",
       "    </tr>\n",
       "  </tbody>\n",
       "</table>\n",
       "</div>"
      ],
      "text/plain": [
       "   Season  team1   fgRate1  fgm31  ScoreDiff1  seedsScore1  team2   fgRate2  \\\n",
       "1    2013   1417  0.465517      3    0.937063     0.571429   1332  0.450000   \n",
       "2    2011   1374  0.613636     10    1.163934     0.166667   1212  0.387755   \n",
       "3    2012   1306  0.392857     10    1.107692     0.000000   1406  0.333333   \n",
       "4    2015   1124  0.446809      6    1.029851     0.941176   1376  0.407407   \n",
       "\n",
       "   fgm32  ScoreDiff2  seedsScore2  Label  \n",
       "1      6    1.062937     0.571429     -1  \n",
       "2      5    0.836066     0.000000      1  \n",
       "3      2    0.892308     0.000000      1  \n",
       "4      5    0.970149     0.000000      1  "
      ]
     },
     "execution_count": 446,
     "metadata": {},
     "output_type": "execute_result"
    }
   ],
   "source": [
    "#Filling in seeds scores for all the data\n",
    "seasonalDf = getSeedsScore(seasonalDf)\n",
    "seasonalDf[1:5]"
   ]
  },
  {
   "cell_type": "code",
   "execution_count": 447,
   "metadata": {
    "collapsed": false
   },
   "outputs": [],
   "source": [
    "# Randomly sample 80% of training data and 20% of test data\n",
    "#teData = seasonalDf.sample(frac=0.2)\n",
    "#trData = seasonalDf[~seasonalDf.index.isin(teData.index)]\n",
    "\n",
    "teData = seasonalDf[seasonalDf['Season']>2012]\n",
    "trData = seasonalDf.sample(frac=0.8)\n",
    "\n",
    "# Set X and Y \n",
    "seasonalColsGenSeedTr = ['Season','team1','fgRate1','fgm31','ScoreDiff1','seedsScore1','team2','fgRate2','fgm32','ScoreDiff2','seedsScore2']\n",
    "trX = DataFrame(trData, columns = seasonalColsGenSeedTr)\n",
    "teX = DataFrame(teData, columns = seasonalColsGenSeedTr)\n",
    "\n",
    "trY = trData['Label']\n",
    "teY = teData['Label']"
   ]
  },
  {
   "cell_type": "code",
   "execution_count": 484,
   "metadata": {
    "collapsed": false
   },
   "outputs": [],
   "source": [
    "# This function returns the team ids and season of all its possible matches\n",
    "\n",
    "def getTeamList(inputTeams):\n",
    "    empty = np.zeros(shape=(0,3))\n",
    "    result = pd.DataFrame(empty, columns=['Season','team1','team2'])\n",
    "    for year in range(2013,2016):\n",
    "        curTeams = inputTeams[inputTeams['Season']==year]\n",
    "        matchNum = len(curTeams)*(len(curTeams)-1)/2\n",
    "        season = np.zeros(shape=matchNum)\n",
    "        team1 = np.zeros(shape=matchNum)\n",
    "        team2 = np.zeros(shape=matchNum)\n",
    "        season[:] = year\n",
    "        season = season.reshape(matchNum,1)\n",
    "        curTeam2 = np.array(curTeams['Team'])\n",
    "        for i in range (len(curTeams)):\n",
    "            curTeam1 = int(curTeams['Team'][i:i+1])\n",
    "            curTeam2 = np.delete(curTeam2, 0)\n",
    "            notZero1 = sum(team1!=0)\n",
    "            notZero2 = sum(team2!=0)\n",
    "            i_ind = len(curTeams)-i\n",
    "            team1[notZero1:notZero1+i_ind-1]=curTeam1\n",
    "            team2[notZero2:notZero2+i_ind-1]= curTeam2\n",
    "        team1 = team1.reshape(matchNum,1)\n",
    "        team2 = team2.reshape(matchNum,1)\n",
    "        test = np.concatenate((season,team1,team2),axis=1)\n",
    "        tempDf = pd.DataFrame(test, columns=['Season','team1','team2'])\n",
    "        result = result.append(tempDf)\n",
    "    return result\n"
   ]
  },
  {
   "cell_type": "code",
   "execution_count": 485,
   "metadata": {
    "collapsed": true
   },
   "outputs": [],
   "source": [
    "# Define a dataset for all teams for finding means in the future\n",
    "allTeams = DataFrame(seasonalDf, columns = ['Season','team1','fgRate1','fgm31','ScoreDiff1','seedsScore1'])\n",
    "allTeams2 = DataFrame(seasonalDf, columns = ['Season','team2','fgRate2','fgm32','ScoreDiff2','seedsScore2'])\n",
    "allTeamsCols = ['Season','team','fgRate','fgm3','ScoreDiff','seedsScore']\n",
    "\n",
    "allTeams.columns = allTeamsCols\n",
    "allTeams2.columns = allTeamsCols\n",
    "allTeams = allTeams.append(allTeams2,ignore_index=True)\n",
    "\n",
    "# Sort by team id and get the mean value of features of each team\n",
    "allTeams = allTeams.sort_values(by=['team'])\n",
    "allTeams = allTeams.groupby(['team'],as_index=False).mean()# Define a function to get the average feature values of the test set teams\n",
    "\n",
    "def getTeFeatures(teTeams):\n",
    "    meanFGR1 = np.zeros(shape=len(teTeams))\n",
    "    meanFGM31 = np.zeros(shape=len(teTeams))\n",
    "    meanSD1 = np.zeros(shape=len(teTeams))\n",
    "    meanSS1 = np.zeros(shape=len(teTeams))\n",
    "    meanFGR2 = np.zeros(shape=len(teTeams))\n",
    "    meanFGM32 = np.zeros(shape=len(teTeams))\n",
    "    meanSD2 = np.zeros(shape=len(teTeams))\n",
    "    meanSS2 = np.zeros(shape=len(teTeams))\n",
    "    for i in range(len(teTeams)):\n",
    "        meanFGR1[i] = allTeams[allTeams['team']==teTeams.iloc[i]['team1']]['fgRate']\n",
    "        meanFGM31[i] = allTeams[allTeams['team']==teTeams.iloc[i]['team1']]['fgm3']\n",
    "        meanSD1[i] = allTeams[allTeams['team']==teTeams.iloc[i]['team1']]['ScoreDiff']\n",
    "        meanSS1[i] = allTeams[allTeams['team']==teTeams.iloc[i]['team1']]['seedsScore']\n",
    "        meanFGR2[i] = allTeams[allTeams['team']==teTeams.iloc[i]['team2']]['fgRate']\n",
    "        meanFGM32[i] = allTeams[allTeams['team']==teTeams.iloc[i]['team2']]['fgm3']\n",
    "        meanSD2[i] = allTeams[allTeams['team']==teTeams.iloc[i]['team2']]['ScoreDiff']\n",
    "        meanSS2[i] = allTeams[allTeams['team']==teTeams.iloc[i]['team2']]['seedsScore']\n",
    "    d = {'Season':teTeams['Season'],'seedsScore2':meanSS2,'ScoreDiff2':meanSD2,'fgm32':meanFGM32,'fgRate2':meanFGR2,'team2':teTeams['team2'],\n",
    "                       'seedsScore1':meanSS1,'ScoreDiff1':meanSD1,'fgm31':meanFGM31,'fgRate1':meanFGR1,'team1':teTeams['team1']}\n",
    "    result = DataFrame(d,columns=['Season','team1','fgRate1','fgm31','ScoreDiff1','seedsScore1',\n",
    "                                  'team2','fgRate2','fgm32','ScoreDiff2','seedsScore2'],\n",
    "                     index=teTeams.index)\n",
    "    return result"
   ]
  },
  {
   "cell_type": "code",
   "execution_count": 486,
   "metadata": {
    "collapsed": false
   },
   "outputs": [],
   "source": [
    "# Instead of putting real seaonal data, we are going to put in the average for each team from seasonal data for testing\n",
    "#teXTeams = DataFrame(teX, columns = ['Season','team1','team2'])\n",
    "#teXX = getTeFeatures(teXTeams)\n",
    "\n",
    "\n",
    "#Getting teams from 2013-2016\n",
    "teamsUsed = seedsDf[seedsDf['Season']>2012]\n",
    "teXTeams = getTeamList(teamsUsed)\n"
   ]
  },
  {
   "cell_type": "code",
   "execution_count": 487,
   "metadata": {
    "collapsed": true
   },
   "outputs": [],
   "source": [
    "# Getting team features\n",
    "teXX = getTeFeatures(teXTeams)"
   ]
  },
  {
   "cell_type": "code",
   "execution_count": 488,
   "metadata": {
    "collapsed": false
   },
   "outputs": [
    {
     "data": {
      "text/plain": [
       "array([[ 0.,  1.],\n",
       "       [ 0.,  1.],\n",
       "       [ 0.,  1.],\n",
       "       ..., \n",
       "       [ 0.,  1.],\n",
       "       [ 0.,  1.],\n",
       "       [ 0.,  1.]])"
      ]
     },
     "execution_count": 488,
     "metadata": {},
     "output_type": "execute_result"
    }
   ],
   "source": [
    "# Decision tree model, usually score around 0.61\n",
    "clf = clf.fit(trX, trY)\n",
    "clf\n",
    "with open(\"test\", 'w') as f:\n",
    "     f = tree.export_graphviz(clf, out_file=f)\n",
    "clf.predict_proba(teXX)\n",
    "#clf.score(teXX, teY)"
   ]
  },
  {
   "cell_type": "code",
   "execution_count": 489,
   "metadata": {
    "collapsed": false
   },
   "outputs": [],
   "source": [
    "# Logistic regression model usually score around 0.69\n",
    "logreg.fit(trX,trY)\n",
    "logres = logreg.predict_proba(teXX)[:,0]\n",
    "#logreg.score(teXX, teY)\n",
    "#pred=logreg.predict_proba(teXX)"
   ]
  },
  {
   "cell_type": "code",
   "execution_count": 532,
   "metadata": {
    "collapsed": false
   },
   "outputs": [
    {
     "data": {
      "text/html": [
       "<div>\n",
       "<table border=\"1\" class=\"dataframe\">\n",
       "  <thead>\n",
       "    <tr style=\"text-align: right;\">\n",
       "      <th></th>\n",
       "      <th>id</th>\n",
       "      <th>pred</th>\n",
       "    </tr>\n",
       "  </thead>\n",
       "  <tbody>\n",
       "    <tr>\n",
       "      <th>1</th>\n",
       "      <td>2013_1103_1112</td>\n",
       "      <td>0.884936</td>\n",
       "    </tr>\n",
       "    <tr>\n",
       "      <th>2</th>\n",
       "      <td>2013_1103_1125</td>\n",
       "      <td>0.770066</td>\n",
       "    </tr>\n",
       "    <tr>\n",
       "      <th>3</th>\n",
       "      <td>2013_1103_1129</td>\n",
       "      <td>0.468014</td>\n",
       "    </tr>\n",
       "    <tr>\n",
       "      <th>4</th>\n",
       "      <td>2013_1103_1137</td>\n",
       "      <td>0.505658</td>\n",
       "    </tr>\n",
       "  </tbody>\n",
       "</table>\n",
       "</div>"
      ],
      "text/plain": [
       "               id     pred\n",
       "1  2013_1103_1112 0.884936\n",
       "2  2013_1103_1125 0.770066\n",
       "3  2013_1103_1129 0.468014\n",
       "4  2013_1103_1137 0.505658"
      ]
     },
     "execution_count": 532,
     "metadata": {},
     "output_type": "execute_result"
    }
   ],
   "source": [
    "# Formatting for submission\n",
    "pd.options.display.float_format = '{:,f}'.format\n",
    "sub_result = DataFrame(teXTeams,columns=['Season','team1','team2'])\n",
    "sub_result['pred']=logres\n",
    "sub_result.Season = sub_result.Season.astype(int)\n",
    "sub_result.team1 = sub_result.team1.astype(int)\n",
    "sub_result.team2 = sub_result.team2.astype(int)\n",
    "sub_result['id']=sub_result['Season'].map(str) +\"_\"+ sub_result['team1'].map(str)+\"_\"+sub_result['team2'].map(str)\n",
    "submission = DataFrame(sub_result,columns=['id','pred'])"
   ]
  },
  {
   "cell_type": "code",
   "execution_count": 535,
   "metadata": {
    "collapsed": false
   },
   "outputs": [],
   "source": [
    "# Writting to csv\n",
    "submission.to_csv('submission.csv', sep=',',index=False)"
   ]
  },
  {
   "cell_type": "code",
   "execution_count": null,
   "metadata": {
    "collapsed": true
   },
   "outputs": [],
   "source": []
  }
 ],
 "metadata": {
  "anaconda-cloud": {},
  "kernelspec": {
   "display_name": "Python [python2]",
   "language": "python",
   "name": "Python [python2]"
  },
  "language_info": {
   "codemirror_mode": {
    "name": "ipython",
    "version": 2
   },
   "file_extension": ".py",
   "mimetype": "text/x-python",
   "name": "python",
   "nbconvert_exporter": "python",
   "pygments_lexer": "ipython2",
   "version": "2.7.13"
  }
 },
 "nbformat": 4,
 "nbformat_minor": 0
}
