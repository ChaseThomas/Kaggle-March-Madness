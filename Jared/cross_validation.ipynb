{
 "cells": [
  {
   "cell_type": "code",
   "execution_count": 61,
   "metadata": {
    "collapsed": false
   },
   "outputs": [],
   "source": [
    "import pandas as pd\n",
    "import numpy as np\n",
    "from sklearn import cross_validation\n",
    "from sklearn import linear_model\n",
    "from sklearn import datasets\n",
    "from sklearn import svm"
   ]
  },
  {
   "cell_type": "code",
   "execution_count": null,
   "metadata": {
    "collapsed": true
   },
   "outputs": [],
   "source": [
    "train = pd.read_csv('train.csv')\n",
    "train.head()"
   ]
  },
  {
   "cell_type": "code",
   "execution_count": 47,
   "metadata": {
    "collapsed": true
   },
   "outputs": [],
   "source": [
    "# example feature engineering for cross validation\n",
    "def impute_age(cols):\n",
    "    Age = cols[0]\n",
    "    Pclass = cols[1]\n",
    "    \n",
    "    if pd.isnull(Age):\n",
    "        if Pclass == 1:\n",
    "            return 37\n",
    "        elif Pclass == 2:\n",
    "            return 29\n",
    "        else:\n",
    "            return 24\n",
    "    else:\n",
    "        return Age\n",
    "\n",
    "train[\"Age\"] = train[[\"Age\",\"Pclass\"]].apply(impute_age,axis=1)\n",
    "train.drop(\"Cabin\",axis=1,inplace=True)\n",
    "train.dropna(inplace=True)\n",
    "sex = pd.get_dummies(train[\"Sex\"],drop_first = True)\n",
    "embark = pd.get_dummies(train[\"Embarked\"],drop_first = True)\n",
    "sibsp = pd.get_dummies(train[\"SibSp\"],drop_first = True)\n",
    "train = pd.concat([train,sex,embark,sibsp],axis=1)\n",
    "train.drop([\"Sex\",\"Embarked\",\"Name\",\"Ticket\",\"PassengerId\",\"SibSp\"],axis=1,inplace=True)"
   ]
  },
  {
   "cell_type": "code",
   "execution_count": 54,
   "metadata": {
    "collapsed": false
   },
   "outputs": [],
   "source": [
    "x = train.drop(\"Survived\",axis=1)\n",
    "y = train[\"Survived\"]"
   ]
  },
  {
   "cell_type": "code",
   "execution_count": 59,
   "metadata": {
    "collapsed": false
   },
   "outputs": [],
   "source": [
    "# train, test data split\n",
    "x_train, x_test, y_train, y_test = cross_validation.train_test_split(x,y,test_size=0.3,random_state=101)"
   ]
  },
  {
   "cell_type": "code",
   "execution_count": null,
   "metadata": {
    "collapsed": true
   },
   "outputs": [],
   "source": [
    "# cross_validation\n",
    "\n",
    "# func depends on whichever method we choose to use\n",
    "func = svm.SVC(kernel='linear', C=100) # svm\n",
    "func = linear_model.LogisticRegression() # Logit\n",
    "# etc...\n",
    "\n",
    "scores = cross_validation.cross_val_score(func, x, y, cv = 10)\n",
    "scores.mean()"
   ]
  },
  {
   "cell_type": "code",
   "execution_count": null,
   "metadata": {
    "collapsed": true
   },
   "outputs": [],
   "source": [
    "# Leave P Out\n",
    "from sklearn.cross_validation import LeavePOut\n",
    "lpo = LeavePOut(len(train), 2) # p = 2\n",
    "\n",
    "for train, test in lpo:\n",
    "    # example: logit model"
   ]
  },
  {
   "cell_type": "code",
   "execution_count": null,
   "metadata": {
    "collapsed": true
   },
   "outputs": [],
   "source": [
    "# K Fold\n",
    "from sklearn.cross_validation import KFold\n",
    "kf = KFold(len(train), 2, indices=False)\n",
    "\n",
    "for train, test in kf:\n",
    "    # model comes here"
   ]
  },
  {
   "cell_type": "code",
   "execution_count": null,
   "metadata": {
    "collapsed": true
   },
   "outputs": [],
   "source": [
    "# Bootstrap\n",
    "bs = cross_validation.Bootstrap(10, random_state=0)\n",
    "\n",
    "for train_index, test_index in bs:\n",
    "    # model comes here"
   ]
  },
  {
   "cell_type": "code",
   "execution_count": null,
   "metadata": {
    "collapsed": true
   },
   "outputs": [],
   "source": [
    "# Shuffle Split\n",
    "ss = cross_validation.ShuffleSplit(5, n_iterations=5, test_fraction=0.4, random_state=101)\n",
    "for train, test in kf:\n",
    "    # model comes here"
   ]
  }
 ],
 "metadata": {
  "anaconda-cloud": {},
  "kernelspec": {
   "display_name": "Python [Root]",
   "language": "python",
   "name": "Python [Root]"
  },
  "language_info": {
   "codemirror_mode": {
    "name": "ipython",
    "version": 2
   },
   "file_extension": ".py",
   "mimetype": "text/x-python",
   "name": "python",
   "nbconvert_exporter": "python",
   "pygments_lexer": "ipython2",
   "version": "2.7.12"
  }
 },
 "nbformat": 4,
 "nbformat_minor": 2
}
