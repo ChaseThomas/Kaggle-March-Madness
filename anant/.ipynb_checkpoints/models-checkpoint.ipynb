{
 "cells": [
  {
   "cell_type": "code",
   "execution_count": 2,
   "metadata": {
    "collapsed": true
   },
   "outputs": [],
   "source": [
    "import numpy as np\n",
    "detailedResults = np.genfromtxt(\"RegularSeasonDetailedResults.csv\", delimiter = \",\")\n",
    "#remove first line\n",
    "detailedResults = detailedResults[1:]"
   ]
  },
  {
   "cell_type": "code",
   "execution_count": 3,
   "metadata": {
    "collapsed": false
   },
   "outputs": [],
   "source": [
    "#Split Data 80-20\n",
    "cvSize = int(0.2* len(detailedResults))\n",
    "trainSize = len(detailedResults) - cvSize\n",
    "trainData = detailedResults[:trainSize]\n",
    "testData = detailedResults[trainSize:]"
   ]
  },
  {
   "cell_type": "code",
   "execution_count": 4,
   "metadata": {
    "collapsed": true
   },
   "outputs": [],
   "source": [
    "schema = {\"Season\":0, \"Daynum\":1, \"Wteam\":2, \"Wscore\":3, \"Lteam\":4, \"Lscore\":5, \"Wloc\":6, \"Numot\":7, \"Wfgm\":8, \"Wfga\":9, \"Wfgm3\":10, \"Wfga3\":11, \"Wftm\":12, \"Wfta\":13, \"Wor\":14, \"Wdr\":15, \"Wast\":16, \"Wto\":17, \"Wstl\":18,\n",
    "         \"Wblk\":19,\"Wpf\":20,\"Lfgm\":21,\"Lfga\":22,\"Lfgm3\":23, \"Lfga3\":24, \"Lftm\":25, \"Lfta\":26, \"Lor\":27, \"Ldr\":28, \"Last\":29, \"Lto\":30, \"Lstl\":31, \"Lblk\":32, \"Lpf\":33}"
   ]
  },
  {
   "cell_type": "code",
   "execution_count": 5,
   "metadata": {
    "collapsed": false
   },
   "outputs": [],
   "source": [
    "from collections import defaultdict\n",
    "teamDic = defaultdict( lambda: defaultdict(int))\n",
    "for data in trainData:\n",
    "    loctype = data[ schema[\"Wloc\"] ]\n",
    "    wfgm, lfgm = data[schema[\"Wfgm\"] ], data[schema[\"Lfgm\"]]\n",
    "    wfga, lfga = data[schema[\"Wfga\"]], data[schema[\"Lfga\"]]\n",
    "    wfgm3, lfgm3 = data[schema[\"Wfgm3\"]], data[schema[\"Lfgm3\"]]\n",
    "    wfga3, lfga3 = data[schema[\"Wfga3\"]], data[schema[\"Lfga3\"]]\n",
    "    wteam, lteam = data[schema[\"Wteam\"]], data[schema[\"Lteam\"]]\n",
    "    wftm, lftm = data[schema[\"Wftm\"]], data[schema[\"Lftm\"]]\n",
    "    wfta, lfta = data[schema[\"Wfta\"]], data[schema[\"Lfta\"]]\n",
    "    if loctype == \"N\":\n",
    "        #fg\n",
    "        teamDic[wteam][\"fgmA\"] += wfgm\n",
    "        teamDic[wteam][\"fgaA\"] += wfga\n",
    "        teamDic[lteam][\"fgmA\"] += lfgm\n",
    "        teamDic[lteam][\"fgaA\"] += lfga\n",
    "        #fg3\n",
    "        teamDic[wteam][\"fgm3A\"] += wfgm3\n",
    "        teamDic[wteam][\"fga3A\"] += wfga3\n",
    "        teamDic[lteam][\"fgm3A\"] += lfgm3\n",
    "        teamDic[lteam][\"fga3A\"] += lfga3\n",
    "        #fta\n",
    "        teamDic[wteam][\"ftmA\"] += wftm\n",
    "        teamDic[wteam][\"ftaA\"] += wfta\n",
    "        teamDic[lteam][\"ftmA\"] += lftm\n",
    "        teamDic[lteam][\"ftaA\"] += lfta\n",
    "    elif loctype == \"H\":\n",
    "        #fg\n",
    "        teamDic[wteam][\"fgmH\"] += wfgm\n",
    "        teamDic[wteam][\"fgaH\"] += wfga\n",
    "        teamDic[lteam][\"fgmA\"] += lfgm\n",
    "        teamDic[lteam][\"fgaA\"] += lfga\n",
    "        #fg3\n",
    "        teamDic[wteam][\"fgm3H\"] += wfgm3\n",
    "        teamDic[wteam][\"fga3H\"] += wfga3\n",
    "        teamDic[lteam][\"fgm3A\"] += lfgm3\n",
    "        teamDic[lteam][\"fga3A\"] += lfga3\n",
    "        #ft\n",
    "        teamDic[wteam][\"ftmH\"] += wftm\n",
    "        teamDic[wteam][\"ftaH\"] += wfta\n",
    "        teamDic[lteam][\"ftmA\"] += lftm\n",
    "        teamDic[lteam][\"ftaA\"] += lfta\n",
    "\n",
    "    else:\n",
    "        #fg\n",
    "        teamDic[wteam][\"fgmA\"] += wfgm\n",
    "        teamDic[wteam][\"fgaA\"] += wfga\n",
    "        teamDic[lteam][\"fgmH\"] += lfgm\n",
    "        teamDic[lteam][\"fgaH\"] += lfga\n",
    "        #fg3\n",
    "        teamDic[wteam][\"fgm3H\"] += wfgm3\n",
    "        teamDic[wteam][\"fga3H\"] += wfga3\n",
    "        teamDic[lteam][\"fgm3A\"] += lfgm3\n",
    "        teamDic[lteam][\"fga3A\"] += lfga3\n",
    "        #ft\n",
    "        teamDic[wteam][\"ftmA\"] += wftm\n",
    "        teamDic[wteam][\"ftaA\"] += wfta\n",
    "        teamDic[lteam][\"ftmH\"] += lftm\n",
    "        teamDic[lteam][\"ftaH\"] += lfta\n",
    "    teamDic[wteam][\"totalMatches\"] += 1\n",
    "    teamDic[lteam][\"totalMatches\"] += 1\n",
    "    teamDic[wteam][\"wonCount\"] += 1"
   ]
  },
  {
   "cell_type": "code",
   "execution_count": 6,
   "metadata": {
    "collapsed": false
   },
   "outputs": [],
   "source": [
    "for team in teamDic:\n",
    "    try:\n",
    "        #Add efficiency features\n",
    "        teamDic[ team ][\"fgeA\"] = float(teamDic[team][\"fgmA\"])/(teamDic[team][\"fgaA\"] or 1)\n",
    "        teamDic[ team ][\"fgeH\"] = float(teamDic[team][\"fgmH\"])/(teamDic[team][\"fgaH\"]or 1)\n",
    "        teamDic[ team ][\"fgTotE\"] = float(teamDic[team][\"fgmA\"]+teamDic[team][\"fgmH\"])/(teamDic[team][\"fgaA\"]+teamDic[team][\"fgaH\"])\n",
    "        \n",
    "        teamDic[ team ][\"fge3A\"] = float(teamDic[team][\"fgm3A\"])/(teamDic[team][\"fga3A\"] or 1)\n",
    "        teamDic[ team ][\"fge3H\"] = float(teamDic[team][\"fgm3H\"])/(teamDic[team][\"fga3H\"] or 1 )\n",
    "        teamDic[ team ][\"fg3TotE\"] = float(teamDic[team][\"fgm3A\"] + teamDic[team][\"fgm3H\"])/(teamDic[team][\"fga3A\"] + teamDic[team][\"fga3H\"])\n",
    "        \n",
    "        teamDic[ team ][\"fteA\"] = float(teamDic[team][\"ftmA\"])/(teamDic[team][\"ftaA\"] or 1)\n",
    "        teamDic[ team ][\"fteH\"] = float(teamDic[team][\"ftmH\"])/(teamDic[team][\"ftaH\"] or 1)\n",
    "        teamDic[ team ][\"ftTotE\"] = float(teamDic[team][\"ftmA\"]+teamDic[team][\"ftmH\"])/(teamDic[team][\"ftaA\"] + teamDic[team][\"ftaH\"])\n",
    "        \n",
    "        #Add average goals made per match:\n",
    "        teamDic[team][\"fgAvg\"] = float(teamDic[team][\"fgmA\"]+teamDic[team][\"fgmH\"]) / teamDic[team][\"totalMatches\"]\n",
    "        teamDic[team][\"fg3Avg\"] = float(teamDic[team][\"fgm3A\"]+teamDic[team][\"fgm3H\"]) / teamDic[team][\"totalMatches\"]\n",
    "        teamDic[team][\"ftAvg\"] = float(teamDic[team][\"ftmA\"]+teamDic[team][\"ftmH\"]) / teamDic[team][\"totalMatches\"]\n",
    "        \n",
    "        #Add winnig Probability:\n",
    "        teamDic[team][\"winProb\"] = float(teamDic[team][\"wonCount\"])/teamDic[team][\"totalMatches\"]\n",
    "    except:\n",
    "        print teamDic[team]"
   ]
  },
  {
   "cell_type": "code",
   "execution_count": 7,
   "metadata": {
    "collapsed": false
   },
   "outputs": [],
   "source": [
    "import random\n",
    "trainMatrix, trainLabels = [], []\n",
    "testMatrix, testLabels = [], []\n",
    "\n",
    "for data in trainData:\n",
    "    wteam, lteam = data[schema[\"Wteam\"]], data[schema[\"Lteam\"]]\n",
    "    rn = random.randint(0,1)\n",
    "    if rn == 1:\n",
    "        temp = teamDic[wteam].values() + teamDic[lteam].values()\n",
    "        trainLabels.append(0)\n",
    "    else:\n",
    "        temp = teamDic[lteam].values() + teamDic[wteam].values()\n",
    "        trainLabels.append(1)    \n",
    "    trainMatrix.append(temp)\n",
    "\n",
    "for data in testData:\n",
    "    wteam, lteam = data[schema[\"Wteam\"]], data[schema[\"Lteam\"]]\n",
    "    rn = random.randint(0,1)\n",
    "    if rn == 1:\n",
    "        temp = teamDic[wteam].values() + teamDic[lteam].values()\n",
    "        testLabels.append(0)\n",
    "    else:\n",
    "        temp = teamDic[lteam].values() + teamDic[wteam].values()\n",
    "        testLabels.append(1)    \n",
    "    testMatrix.append(temp)\n"
   ]
  },
  {
   "cell_type": "markdown",
   "metadata": {},
   "source": [
    "Build Logistic Regression Model:"
   ]
  },
  {
   "cell_type": "code",
   "execution_count": 8,
   "metadata": {
    "collapsed": false
   },
   "outputs": [
    {
     "data": {
      "text/plain": [
       "LogisticRegression(C=1.0, class_weight=None, dual=False, fit_intercept=True,\n",
       "          intercept_scaling=1, max_iter=100, multi_class='ovr', n_jobs=1,\n",
       "          penalty='l2', random_state=None, solver='liblinear', tol=0.0001,\n",
       "          verbose=0, warm_start=False)"
      ]
     },
     "execution_count": 8,
     "metadata": {},
     "output_type": "execute_result"
    }
   ],
   "source": [
    "from sklearn.linear_model import LogisticRegression\n",
    "logisticModel = LogisticRegression()\n",
    "logisticModel.fit(trainMatrix, trainLabels)"
   ]
  },
  {
   "cell_type": "markdown",
   "metadata": {},
   "source": [
    "Build Decistion Tree Model:"
   ]
  },
  {
   "cell_type": "code",
   "execution_count": 67,
   "metadata": {
    "collapsed": false
   },
   "outputs": [
    {
     "data": {
      "text/plain": [
       "DecisionTreeClassifier(class_weight=None, criterion='gini', max_depth=None,\n",
       "            max_features=None, max_leaf_nodes=None, min_samples_leaf=1,\n",
       "            min_samples_split=2, min_weight_fraction_leaf=0.0,\n",
       "            presort=False, random_state=None, splitter='best')"
      ]
     },
     "execution_count": 67,
     "metadata": {},
     "output_type": "execute_result"
    }
   ],
   "source": [
    "from sklearn.tree import DecisionTreeClassifier\n",
    "dtModel = DecisionTreeClassifier()\n",
    "dtModel.fit(trainMatrix, trainLabels)"
   ]
  },
  {
   "cell_type": "code",
   "execution_count": 9,
   "metadata": {
    "collapsed": true
   },
   "outputs": [],
   "source": [
    "def accuracy(model, testMatrix, testLabels):\n",
    "    opLabels = model.predict(testMatrix)\n",
    "    correct = sum(1 for _ in range(0,len(testLabels)) if testLabels[_] == opLabels[_])\n",
    "    return float(correct)/len(opLabels) * 100 "
   ]
  },
  {
   "cell_type": "code",
   "execution_count": 19,
   "metadata": {
    "collapsed": false
   },
   "outputs": [
    {
     "ename": "IOError",
     "evalue": "[Errno 2] No such file or directory: 'anant.csv'",
     "output_type": "error",
     "traceback": [
      "\u001b[0;31m---------------------------------------------------------------------------\u001b[0m",
      "\u001b[0;31mIOError\u001b[0m                                   Traceback (most recent call last)",
      "\u001b[0;32m<ipython-input-19-d2c33ccc811c>\u001b[0m in \u001b[0;36m<module>\u001b[0;34m()\u001b[0m\n\u001b[1;32m      8\u001b[0m \u001b[0;34m\u001b[0m\u001b[0m\n\u001b[1;32m      9\u001b[0m \u001b[0;32mimport\u001b[0m \u001b[0mcsv\u001b[0m\u001b[0;34m\u001b[0m\u001b[0m\n\u001b[0;32m---> 10\u001b[0;31m \u001b[0;32mwith\u001b[0m \u001b[0mopen\u001b[0m\u001b[0;34m(\u001b[0m\u001b[0;34m\"anant.csv\"\u001b[0m\u001b[0;34m,\u001b[0m \u001b[0;34m\"r\"\u001b[0m\u001b[0;34m)\u001b[0m \u001b[0;32mas\u001b[0m \u001b[0moutfile\u001b[0m\u001b[0;34m:\u001b[0m\u001b[0;34m\u001b[0m\u001b[0m\n\u001b[0m\u001b[1;32m     11\u001b[0m     \u001b[0mwriter\u001b[0m \u001b[0;34m=\u001b[0m \u001b[0mcsv\u001b[0m\u001b[0;34m.\u001b[0m\u001b[0mwriter\u001b[0m\u001b[0;34m(\u001b[0m\u001b[0moutfile\u001b[0m\u001b[0;34m)\u001b[0m\u001b[0;34m\u001b[0m\u001b[0m\n\u001b[1;32m     12\u001b[0m     \u001b[0;32mfor\u001b[0m \u001b[0mrow\u001b[0m \u001b[0;32min\u001b[0m \u001b[0moutput\u001b[0m\u001b[0;34m:\u001b[0m\u001b[0;34m\u001b[0m\u001b[0m\n",
      "\u001b[0;31mIOError\u001b[0m: [Errno 2] No such file or directory: 'anant.csv'"
     ]
    }
   ],
   "source": [
    "team1 = [testMatrix[i][2] for i in xrange(0, len(testMatrix))]\n",
    "team2 = [testMatrix[i][4] for i in xrange(0, len(testMatrix))]\n",
    "results = logisticModel.predict(testMatrix)\n",
    "\n",
    "output = []\n",
    "for i in xrange(0, len(results)):\n",
    "    output.append([team1[i], team2[i], results[i]])\n",
    "    \n",
    "import csv\n",
    "with open(\"anant.csv\", \"w\") as outfile:\n",
    "    writer = csv.writer(outfile)\n",
    "    for row in output:\n",
    "        writer.writerow(row)\n",
    "\n",
    "accuracy( logisticModel, testMatrix, testLabels)"
   ]
  },
  {
   "cell_type": "code",
   "execution_count": 72,
   "metadata": {
    "collapsed": false
   },
   "outputs": [
    {
     "data": {
      "text/plain": [
       "58.96266142616508"
      ]
     },
     "execution_count": 72,
     "metadata": {},
     "output_type": "execute_result"
    }
   ],
   "source": [
    "accuracy( dtModel, testMatrix, testLabels)"
   ]
  },
  {
   "cell_type": "code",
   "execution_count": null,
   "metadata": {
    "collapsed": true
   },
   "outputs": [],
   "source": []
  }
 ],
 "metadata": {
  "anaconda-cloud": {},
  "kernelspec": {
   "display_name": "Python [default]",
   "language": "python",
   "name": "python2"
  },
  "language_info": {
   "codemirror_mode": {
    "name": "ipython",
    "version": 2
   },
   "file_extension": ".py",
   "mimetype": "text/x-python",
   "name": "python",
   "nbconvert_exporter": "python",
   "pygments_lexer": "ipython2",
   "version": "2.7.12"
  }
 },
 "nbformat": 4,
 "nbformat_minor": 1
}
